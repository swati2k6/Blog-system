{
  "nbformat": 4,
  "nbformat_minor": 0,
  "metadata": {
    "colab": {
      "provenance": [],
      "authorship_tag": "ABX9TyPtSTYb7LKG5t/m3I6UZUQL",
      "include_colab_link": true
    },
    "kernelspec": {
      "name": "python3",
      "display_name": "Python 3"
    },
    "language_info": {
      "name": "python"
    }
  },
  "cells": [
    {
      "cell_type": "markdown",
      "metadata": {
        "id": "view-in-github",
        "colab_type": "text"
      },
      "source": [
        "<a href=\"https://colab.research.google.com/github/swati2k6/Blog-system/blob/main/Untitled1.ipynb\" target=\"_parent\"><img src=\"https://colab.research.google.com/assets/colab-badge.svg\" alt=\"Open In Colab\"/></a>"
      ]
    },
    {
      "cell_type": "code",
      "execution_count": 1,
      "metadata": {
        "colab": {
          "base_uri": "https://localhost:8080/"
        },
        "id": "aF9QJXrvTczx",
        "outputId": "73a94590-d690-40fe-b4ca-0172fed3e32f"
      },
      "outputs": [
        {
          "output_type": "stream",
          "name": "stdout",
          "text": [
            "Word Frequency Analysis:\n",
            "\n",
            "artificial : 1\n",
            "intelligence : 1\n",
            "(ai) : 1\n",
            "is : 1\n",
            "transforming : 1\n",
            "research : 1\n",
            "workflows : 1\n",
            "tools : 1\n",
            "like : 1\n",
            "github : 1\n",
            "google : 1\n",
            "colab : 1\n",
            "and : 1\n",
            "mendeley : 1\n",
            "help : 1\n",
            "researchers : 1\n",
            "manage : 1\n",
            "projects : 1\n",
            "efficiently : 1\n"
          ]
        }
      ],
      "source": [
        "# Mini Research Project - Word Frequency Analysis\n",
        "\n",
        "# Sample dataset (a paragraph of text)\n",
        "text = \"\"\"Artificial Intelligence (AI) is transforming research workflows.\n",
        "Tools like GitHub, Google Colab, and Mendeley help researchers manage projects efficiently.\"\"\"\n",
        "\n",
        "# Step 1: Preprocess\n",
        "words = text.lower().replace(\".\", \"\").replace(\",\", \"\").split()\n",
        "\n",
        "# Step 2: Count frequency\n",
        "from collections import Counter\n",
        "word_count = Counter(words)\n",
        "\n",
        "# Step 3: Show results\n",
        "print(\"Word Frequency Analysis:\\n\")\n",
        "for word, freq in word_count.items():\n",
        "    print(word, \":\", freq)\n"
      ]
    }
  ]
}